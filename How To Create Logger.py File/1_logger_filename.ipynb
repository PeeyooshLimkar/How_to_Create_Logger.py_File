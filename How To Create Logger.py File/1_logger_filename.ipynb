{
 "cells": [
  {
   "cell_type": "code",
   "execution_count": null,
   "metadata": {},
   "outputs": [],
   "source": [
    "import logging\n",
    "\n",
    "\n",
    "logging.basicConfig(\n",
    "    filename = 'logfile.log'\n",
    ")\n",
    "\n",
    "logging.debug('debug')\n",
    "logging.info('info')\n",
    "logging.warn('warn')\n",
    "logging.warning('warning')\n",
    "logging.error('error')\n",
    "logging.critical('critical')\n",
    "logging.fatal('fatal\\n')"
   ]
  },
  {
   "cell_type": "markdown",
   "metadata": {},
   "source": [
    "#### Restart Kernel"
   ]
  },
  {
   "cell_type": "code",
   "execution_count": 3,
   "metadata": {},
   "outputs": [
    {
     "name": "stderr",
     "output_type": "stream",
     "text": [
      "C:\\Users\\piyus\\AppData\\Local\\Temp\\ipykernel_3204\\2799993963.py:10: DeprecationWarning: The 'warn' function is deprecated, use 'warning' instead\n",
      "  logging.warn('warn')\n"
     ]
    }
   ],
   "source": [
    "import logging\n",
    "\n",
    "\n",
    "logging.basicConfig(\n",
    "    filename = './Logs/logfile.log'\n",
    ")\n",
    "\n",
    "logging.debug('debug')\n",
    "logging.info('info')\n",
    "logging.warn('warn')\n",
    "logging.warning('warning')\n",
    "logging.error('error')\n",
    "logging.critical('critical')\n",
    "logging.fatal('fatal\\n')"
   ]
  }
 ],
 "metadata": {
  "kernelspec": {
   "display_name": "base",
   "language": "python",
   "name": "python3"
  },
  "language_info": {
   "codemirror_mode": {
    "name": "ipython",
    "version": 3
   },
   "file_extension": ".py",
   "mimetype": "text/x-python",
   "name": "python",
   "nbconvert_exporter": "python",
   "pygments_lexer": "ipython3",
   "version": "3.9.16"
  },
  "orig_nbformat": 4
 },
 "nbformat": 4,
 "nbformat_minor": 2
}
