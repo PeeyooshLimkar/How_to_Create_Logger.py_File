{
 "cells": [
  {
   "cell_type": "code",
   "execution_count": 1,
   "metadata": {},
   "outputs": [
    {
     "name": "stderr",
     "output_type": "stream",
     "text": [
      "C:\\Users\\piyus\\AppData\\Local\\Temp\\ipykernel_9180\\762007529.py:19: DeprecationWarning: The 'warn' function is deprecated, use 'warning' instead\n",
      "  logging.warn('warn')\n"
     ]
    }
   ],
   "source": [
    "import logging\n",
    "\n",
    "\n",
    "log_format_style = '''{asctime} -- {levelname} -- {levelno} -- \n",
    "{filename} -- {funcName} -- {module} -- {lineno} --\n",
    "{message}'''\n",
    "\n",
    "logging.basicConfig(\n",
    "    filename = './Logs/datefmt.log',\n",
    "    filemode = 'a',\n",
    "    level = logging.DEBUG,\n",
    "    format = log_format_style,\n",
    "    style = '{',\n",
    "    datefmt = 'On %d(%a)-%m(%b)-%Y  At %I-%M-%S-%p'\n",
    ")\n",
    "\n",
    "logging.debug('debug')\n",
    "logging.info('info')\n",
    "logging.warn('warn')\n",
    "logging.warning('warning')\n",
    "logging.error('error')\n",
    "logging.critical('critical')\n",
    "logging.fatal('fatal\\n')"
   ]
  },
  {
   "cell_type": "markdown",
   "metadata": {},
   "source": [
    "#### Restart Kernel"
   ]
  },
  {
   "cell_type": "code",
   "execution_count": 1,
   "metadata": {},
   "outputs": [
    {
     "name": "stderr",
     "output_type": "stream",
     "text": [
      "C:\\Users\\piyus\\AppData\\Local\\Temp\\ipykernel_18796\\1695023822.py:19: DeprecationWarning: The 'warn' function is deprecated, use 'warning' instead\n",
      "  logging.warn('warn')\n"
     ]
    }
   ],
   "source": [
    "import logging\n",
    "\n",
    "\n",
    "log_format_style = '''{asctime} -- {levelname} -- {levelno} -- \n",
    "{filename} -- {funcName} -- {module} -- {lineno} --\n",
    "{message}'''\n",
    "\n",
    "logging.basicConfig(\n",
    "    filename = './Logs/datefmt.log',\n",
    "    filemode = 'a',\n",
    "    level = logging.DEBUG,\n",
    "    format = log_format_style,\n",
    "    style = '{',\n",
    "    datefmt = 'On %d(%a)-%m(%b)-%Y  At %I:%M:%S-%p'\n",
    ")\n",
    "\n",
    "logging.debug('debug')\n",
    "logging.info('info')\n",
    "logging.warn('warn')\n",
    "logging.warning('warning')\n",
    "logging.error('error')\n",
    "logging.critical('critical')\n",
    "logging.fatal('fatal\\n')"
   ]
  },
  {
   "attachments": {},
   "cell_type": "markdown",
   "metadata": {},
   "source": [
    "#### Restart Kernel"
   ]
  },
  {
   "cell_type": "code",
   "execution_count": 1,
   "metadata": {},
   "outputs": [
    {
     "name": "stderr",
     "output_type": "stream",
     "text": [
      "C:\\Users\\piyus\\AppData\\Local\\Temp\\ipykernel_17980\\3768858557.py:19: DeprecationWarning: The 'warn' function is deprecated, use 'warning' instead\n",
      "  logging.warn('warn')\n"
     ]
    }
   ],
   "source": [
    "import logging\n",
    "\n",
    "\n",
    "log_format_style = '''{asctime} -- {levelname} -- {levelno} -- \n",
    "{filename} -- {funcName} -- {module} -- {lineno} --\n",
    "{message}'''\n",
    "\n",
    "logging.basicConfig(\n",
    "    filename = './Logs/datefmt.log',\n",
    "    filemode = 'a',\n",
    "    level = logging.DEBUG,\n",
    "    format = log_format_style,\n",
    "    style = '{',\n",
    "    datefmt = 'On %d(%a)/%m(%b)/%Y  At %I:%M:%S-%p'\n",
    ")\n",
    "\n",
    "logging.debug('debug')\n",
    "logging.info('info')\n",
    "logging.warn('warn')\n",
    "logging.warning('warning')\n",
    "logging.error('error')\n",
    "logging.critical('critical')\n",
    "logging.fatal('fatal\\n')"
   ]
  }
 ],
 "metadata": {
  "kernelspec": {
   "display_name": "base",
   "language": "python",
   "name": "python3"
  },
  "language_info": {
   "codemirror_mode": {
    "name": "ipython",
    "version": 3
   },
   "file_extension": ".py",
   "mimetype": "text/x-python",
   "name": "python",
   "nbconvert_exporter": "python",
   "pygments_lexer": "ipython3",
   "version": "3.9.16"
  },
  "orig_nbformat": 4
 },
 "nbformat": 4,
 "nbformat_minor": 2
}
