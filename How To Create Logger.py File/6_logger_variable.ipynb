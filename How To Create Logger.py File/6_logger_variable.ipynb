{
 "cells": [
  {
   "cell_type": "code",
   "execution_count": 2,
   "metadata": {},
   "outputs": [],
   "source": [
    "import logging\n",
    "\n",
    "\n",
    "logging.basicConfig(\n",
    "    filename = './Logs/variable.log',\n",
    "    filemode = 'a',\n",
    "    level = logging.DEBUG,\n",
    "    format = '{asctime} - {message}',\n",
    "    style = '{',\n",
    "    datefmt = 'On %d(%a)/%m(%b)/%Y  At %I:%M:%S-%p',\n",
    ")\n",
    "\n",
    "fname = 'piyush'\n",
    "lname = 'limkar'\n",
    "logging.info(f'{fname} is my name\\n')\n",
    "logging.error('My name is %s\\n', fname)\n",
    "logging.critical('My fname : {0}  &  lname : {1}\\n'.format(fname, lname))"
   ]
  }
 ],
 "metadata": {
  "kernelspec": {
   "display_name": "base",
   "language": "python",
   "name": "python3"
  },
  "language_info": {
   "codemirror_mode": {
    "name": "ipython",
    "version": 3
   },
   "file_extension": ".py",
   "mimetype": "text/x-python",
   "name": "python",
   "nbconvert_exporter": "python",
   "pygments_lexer": "ipython3",
   "version": "3.9.16"
  },
  "orig_nbformat": 4
 },
 "nbformat": 4,
 "nbformat_minor": 2
}
