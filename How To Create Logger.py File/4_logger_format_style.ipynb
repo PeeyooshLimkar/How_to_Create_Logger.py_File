{
 "cells": [
  {
   "attachments": {},
   "cell_type": "markdown",
   "metadata": {},
   "source": [
    "#### format"
   ]
  },
  {
   "cell_type": "code",
   "execution_count": 1,
   "metadata": {},
   "outputs": [
    {
     "name": "stderr",
     "output_type": "stream",
     "text": [
      "C:\\Users\\piyus\\AppData\\Local\\Temp\\ipykernel_22400\\3201600389.py:14: DeprecationWarning: The 'warn' function is deprecated, use 'warning' instead\n",
      "  logging.warn('warn')\n"
     ]
    }
   ],
   "source": [
    "import logging\n",
    "\n",
    "\n",
    "logging.basicConfig(\n",
    "    filename = './Logs/format_style.log',\n",
    "    filemode = 'a',\n",
    "    level = logging.DEBUG,\n",
    "    format = '%(asctime)s -1- %(message)s'\n",
    ")\n",
    "\n",
    "\n",
    "logging.debug('debug')\n",
    "logging.info('info')\n",
    "logging.warn('warn')\n",
    "logging.warning('warning')\n",
    "logging.error('error')\n",
    "logging.critical('critical')\n",
    "logging.fatal('fatal\\n')"
   ]
  },
  {
   "attachments": {},
   "cell_type": "markdown",
   "metadata": {},
   "source": [
    "#### Restart Kernel"
   ]
  },
  {
   "cell_type": "code",
   "execution_count": 1,
   "metadata": {},
   "outputs": [
    {
     "name": "stderr",
     "output_type": "stream",
     "text": [
      "C:\\Users\\piyus\\AppData\\Local\\Temp\\ipykernel_7356\\3733356304.py:16: DeprecationWarning: The 'warn' function is deprecated, use 'warning' instead\n",
      "  logging.warn('warn')\n"
     ]
    }
   ],
   "source": [
    "import logging\n",
    "\n",
    "\n",
    "log_format = '%(asctime)s -2- %(message)s'\n",
    "\n",
    "logging.basicConfig(\n",
    "    filename = './Logs/format_style.log',\n",
    "    filemode = 'a',\n",
    "    level = logging.DEBUG,\n",
    "    format = log_format\n",
    ")\n",
    "\n",
    "\n",
    "logging.debug('debug')\n",
    "logging.info('info')\n",
    "logging.warn('warn')\n",
    "logging.warning('warning')\n",
    "logging.error('error')\n",
    "logging.critical('critical')\n",
    "logging.fatal('fatal\\n')"
   ]
  },
  {
   "cell_type": "markdown",
   "metadata": {},
   "source": [
    "#### Restart Kernel"
   ]
  },
  {
   "cell_type": "code",
   "execution_count": 1,
   "metadata": {},
   "outputs": [
    {
     "name": "stderr",
     "output_type": "stream",
     "text": [
      "C:\\Users\\piyus\\AppData\\Local\\Temp\\ipykernel_9752\\3754397675.py:15: DeprecationWarning: The 'warn' function is deprecated, use 'warning' instead\n",
      "  logging.warn('warn')\n"
     ]
    }
   ],
   "source": [
    "import logging\n",
    "\n",
    "\n",
    "log_format = '%(asctime)s -3- %(lineno)d -3- %(message)s'\n",
    "\n",
    "logging.basicConfig(\n",
    "    filename = './Logs/format_style.log',\n",
    "    filemode = 'a',\n",
    "    level = logging.DEBUG,\n",
    "    format = log_format\n",
    ")\n",
    "\n",
    "logging.debug('debug')\n",
    "logging.info('info')\n",
    "logging.warn('warn')\n",
    "logging.warning('warning')\n",
    "logging.error('error')\n",
    "logging.critical('critical')\n",
    "logging.fatal('fatal\\n')"
   ]
  },
  {
   "cell_type": "markdown",
   "metadata": {},
   "source": [
    "#### Restart Kernel"
   ]
  },
  {
   "attachments": {},
   "cell_type": "markdown",
   "metadata": {},
   "source": [
    "#### style"
   ]
  },
  {
   "cell_type": "code",
   "execution_count": 1,
   "metadata": {},
   "outputs": [
    {
     "name": "stderr",
     "output_type": "stream",
     "text": [
      "C:\\Users\\piyus\\AppData\\Local\\Temp\\ipykernel_8080\\2988137831.py:16: DeprecationWarning: The 'warn' function is deprecated, use 'warning' instead\n",
      "  logging.warn('warn')\n"
     ]
    }
   ],
   "source": [
    "import logging\n",
    "\n",
    "\n",
    "log_format_style = '{asctime} -4- {levelname} -4- {lineno} -4- {message}'\n",
    "\n",
    "logging.basicConfig(\n",
    "    filename = './Logs/format_style.log',\n",
    "    filemode = 'a',\n",
    "    level = logging.DEBUG,\n",
    "    format = log_format_style,\n",
    "    style = '{'\n",
    ")\n",
    "\n",
    "logging.debug('debug')\n",
    "logging.info('info')\n",
    "logging.warn('warn')\n",
    "logging.warning('warning')\n",
    "logging.error('error')\n",
    "logging.critical('critical')\n",
    "logging.fatal('fatal\\n')"
   ]
  },
  {
   "cell_type": "markdown",
   "metadata": {},
   "source": [
    "#### Restart Kernel"
   ]
  },
  {
   "cell_type": "code",
   "execution_count": 1,
   "metadata": {},
   "outputs": [
    {
     "name": "stderr",
     "output_type": "stream",
     "text": [
      "C:\\Users\\piyus\\AppData\\Local\\Temp\\ipykernel_11268\\2342521820.py:20: DeprecationWarning: The 'warn' function is deprecated, use 'warning' instead\n",
      "  logging.warn('warn')\n"
     ]
    }
   ],
   "source": [
    "import logging\n",
    "\n",
    "\n",
    "log_format_style = '''{asctime} -5- {levelname} -5- {levelno} -5- \n",
    "{filename} -5- {funcName} -5- {module} -5-\n",
    "{process} -5- {processName} -5- {lineno} -5-\n",
    "{thread} -5- {threadName} -5-\n",
    "{message}'''\n",
    "\n",
    "logging.basicConfig(\n",
    "    filename = './Logs/format_style.log',\n",
    "    filemode = 'a',\n",
    "    level = logging.DEBUG,\n",
    "    format = log_format_style,\n",
    "    style = '{'\n",
    ")\n",
    "\n",
    "logging.debug('debug')\n",
    "logging.info('info')\n",
    "logging.warn('warn')\n",
    "logging.warning('warning')\n",
    "logging.error('error')\n",
    "logging.critical('critical')\n",
    "logging.fatal('fatal\\n')"
   ]
  }
 ],
 "metadata": {
  "kernelspec": {
   "display_name": "base",
   "language": "python",
   "name": "python3"
  },
  "language_info": {
   "codemirror_mode": {
    "name": "ipython",
    "version": 3
   },
   "file_extension": ".py",
   "mimetype": "text/x-python",
   "name": "python",
   "nbconvert_exporter": "python",
   "pygments_lexer": "ipython3",
   "version": "3.9.16"
  },
  "orig_nbformat": 4
 },
 "nbformat": 4,
 "nbformat_minor": 2
}
