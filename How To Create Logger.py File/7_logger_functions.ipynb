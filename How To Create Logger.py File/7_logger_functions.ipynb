{
 "cells": [
  {
   "cell_type": "code",
   "execution_count": 1,
   "metadata": {},
   "outputs": [
    {
     "name": "stdout",
     "output_type": "stream",
     "text": [
      "My full name is piyush limkar & email id is piyushlimkar@email.com\n",
      "My full name is eesha borkar & email id is eeshaborkar@email.com\n"
     ]
    }
   ],
   "source": [
    "class Employee:\n",
    "\n",
    "    def __init__(self, fname, lname):\n",
    "        self.fname = fname\n",
    "        self.lname = lname\n",
    "\n",
    "        print('My full name is {0} & email id is {1}'.format(\n",
    "            self.full_name, self.email\n",
    "        ))\n",
    "\n",
    "    @property\n",
    "    def full_name(self):\n",
    "        return f'{self.fname} {self.lname}'\n",
    "    \n",
    "    @property\n",
    "    def email(self):\n",
    "        return '{0}{1}@email.com'.format(self.fname, self.lname)\n",
    "    \n",
    "\n",
    "emp1 = Employee('piyush', 'limkar')\n",
    "emp2 = Employee('eesha', 'borkar')"
   ]
  },
  {
   "cell_type": "code",
   "execution_count": 1,
   "metadata": {},
   "outputs": [],
   "source": [
    "import logging\n",
    "\n",
    "\n",
    "logging.basicConfig(\n",
    "    filename = './Logs/function.log',\n",
    "    filemode = 'a',\n",
    "    level = logging.INFO,\n",
    "    format = '1 : {levelname} : {name} : {message}',\n",
    "    style = '{'\n",
    ")\n",
    "\n",
    "\n",
    "class Employee:\n",
    "\n",
    "    def __init__(self, fname, lname):\n",
    "        self.fname = fname\n",
    "        self.lname = lname\n",
    "\n",
    "        logging.info('My full name is {0} & email id is {1}'.format(\n",
    "            self.full_name, self.email\n",
    "        ))\n",
    "\n",
    "    @property\n",
    "    def full_name(self):\n",
    "        return f'{self.fname} {self.lname}'\n",
    "\n",
    "    @property\n",
    "    def email(self):\n",
    "        return '{0}{1}@email.com'.format(self.fname, self.lname)\n",
    "\n",
    "\n",
    "emp1 = Employee('piyush', 'limkar')\n",
    "emp2 = Employee('eesha', 'borkar')"
   ]
  },
  {
   "attachments": {},
   "cell_type": "markdown",
   "metadata": {},
   "source": [
    "#### Restart Kernel"
   ]
  },
  {
   "cell_type": "code",
   "execution_count": 1,
   "metadata": {},
   "outputs": [],
   "source": [
    "# It won't give any output\n",
    "# because you haven written logging.basicConfig\n",
    "\n",
    "import logging\n",
    "\n",
    "\n",
    "logger = logging.getLogger(__name__)\n",
    "\n",
    "\n",
    "class Employee:\n",
    "    def __init__(self, fname, lname):\n",
    "        self.fname = fname\n",
    "        self.lname = lname\n",
    "        logger.info('My full name is {0} & email id is {1}'.format(\n",
    "            self.full_name, self.email\n",
    "        ))\n",
    "\n",
    "    @property\n",
    "    def full_name(self):\n",
    "        return f'{self.fname} {self.lname}'\n",
    "   \n",
    "    @property\n",
    "    def email(self):\n",
    "        return '{0}{1}@email.com'.format(self.fname, self.lname)\n",
    "\n",
    "\n",
    "emp1 = Employee('2 : piyush', 'limkar')\n",
    "emp2 = Employee('2 : eesha', 'borkar')"
   ]
  },
  {
   "attachments": {},
   "cell_type": "markdown",
   "metadata": {},
   "source": [
    "#### Restart Kernel"
   ]
  },
  {
   "cell_type": "code",
   "execution_count": 1,
   "metadata": {},
   "outputs": [],
   "source": [
    "import logging\n",
    "\n",
    "\n",
    "logger = logging.getLogger(__name__)\n",
    "\n",
    "# for root\n",
    "logging.basicConfig(\n",
    "    filename = './Logs/function.log',\n",
    "    filemode = 'a',\n",
    "    level = logging.INFO,\n",
    "    format = '3 : {levelname} : {name} : {message}',\n",
    "    style = '{'\n",
    ")\n",
    "\n",
    "class Employee:\n",
    "    def __init__(self, fname, lname):\n",
    "        self.fname = fname\n",
    "        self.lname = lname\n",
    "        logger.info('My full name is {0} & email id is {1}'.format(\n",
    "            self.full_name, self.email\n",
    "        ))\n",
    "\n",
    "    @property\n",
    "    def full_name(self):\n",
    "        return f'{self.fname} {self.lname}'\n",
    "   \n",
    "    @property\n",
    "    def email(self):\n",
    "        return '{0}{1}@email.com'.format(self.fname, self.lname)\n",
    "\n",
    "\n",
    "emp1 = Employee('piyush', 'limkar')\n",
    "emp2 = Employee('eesha', 'borkar')"
   ]
  },
  {
   "attachments": {},
   "cell_type": "markdown",
   "metadata": {},
   "source": [
    "#### Restart Kernel"
   ]
  },
  {
   "cell_type": "code",
   "execution_count": 1,
   "metadata": {},
   "outputs": [],
   "source": [
    "import logging\n",
    "\n",
    "\n",
    "# object of logging\n",
    "logger = logging.getLogger(__name__)\n",
    "\n",
    "# Set Level\n",
    "logger.setLevel(logging.INFO)\n",
    "\n",
    "# logging to which file\n",
    "file_handler = logging.FileHandler('./Logs/function.log')\n",
    "\n",
    "# Set format\n",
    "log_format = logging.Formatter('4 : %(levelname)s : %(name)s : %(message)s')\n",
    "file_handler.setFormatter(log_format)\n",
    "\n",
    "# Adding File to logging\n",
    "logger.addHandler(file_handler)\n",
    "\n",
    "\n",
    "class Employee:\n",
    "    def __init__(self, fname, lname):\n",
    "        self.fname = fname\n",
    "        self.lname = lname\n",
    "        logger.info('My full name is {0} & email id is {1}'.format(\n",
    "            self.full_name, self.email\n",
    "        ))\n",
    "\n",
    "    @property\n",
    "    def full_name(self):\n",
    "        return f'{self.fname} {self.lname}'\n",
    "   \n",
    "    @property\n",
    "    def email(self):\n",
    "        return '{0}{1}@email.com'.format(self.fname, self.lname)\n",
    "\n",
    "\n",
    "emp1 = Employee('piyush', 'limkar')\n",
    "emp2 = Employee('eesha', 'borkar')"
   ]
  }
 ],
 "metadata": {
  "kernelspec": {
   "display_name": "base",
   "language": "python",
   "name": "python3"
  },
  "language_info": {
   "codemirror_mode": {
    "name": "ipython",
    "version": 3
   },
   "file_extension": ".py",
   "mimetype": "text/x-python",
   "name": "python",
   "nbconvert_exporter": "python",
   "pygments_lexer": "ipython3",
   "version": "3.9.16"
  },
  "orig_nbformat": 4
 },
 "nbformat": 4,
 "nbformat_minor": 2
}
