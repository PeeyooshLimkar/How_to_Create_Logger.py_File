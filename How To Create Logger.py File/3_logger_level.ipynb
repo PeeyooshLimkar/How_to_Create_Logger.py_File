{
 "cells": [
  {
   "cell_type": "code",
   "execution_count": 1,
   "metadata": {},
   "outputs": [
    {
     "name": "stderr",
     "output_type": "stream",
     "text": [
      "C:\\Users\\piyus\\AppData\\Local\\Temp\\ipykernel_652\\3536027587.py:12: DeprecationWarning: The 'warn' function is deprecated, use 'warning' instead\n",
      "  logging.warn('warn')\n"
     ]
    }
   ],
   "source": [
    "import logging\n",
    "\n",
    "\n",
    "logging.basicConfig(\n",
    "    filename = './Logs/level.log',\n",
    "    filemode = 'a',\n",
    "    level = logging.DEBUG\n",
    ")\n",
    "\n",
    "logging.debug('debug')\n",
    "logging.info('info')\n",
    "logging.warn('warn')\n",
    "logging.warning('warning')\n",
    "logging.error('error')\n",
    "logging.critical('critical')\n",
    "logging.fatal('fatal\\n')"
   ]
  },
  {
   "attachments": {},
   "cell_type": "markdown",
   "metadata": {},
   "source": [
    "#### Restart Kernel"
   ]
  },
  {
   "cell_type": "code",
   "execution_count": 1,
   "metadata": {},
   "outputs": [
    {
     "name": "stderr",
     "output_type": "stream",
     "text": [
      "C:\\Users\\piyus\\AppData\\Local\\Temp\\ipykernel_1848\\387915295.py:12: DeprecationWarning: The 'warn' function is deprecated, use 'warning' instead\n",
      "  logging.warn('warn')\n"
     ]
    }
   ],
   "source": [
    "import logging\n",
    "\n",
    "\n",
    "logging.basicConfig(\n",
    "    filename = './Logs/level.log',\n",
    "    filemode = 'a',\n",
    "    level = logging.INFO\n",
    ")\n",
    "\n",
    "logging.debug('debug')\n",
    "logging.info('info')\n",
    "logging.warn('warn')\n",
    "logging.warning('warning')\n",
    "logging.error('error')\n",
    "logging.critical('critical')\n",
    "logging.fatal('fatal\\n')"
   ]
  },
  {
   "attachments": {},
   "cell_type": "markdown",
   "metadata": {},
   "source": [
    "#### Restart Kernel"
   ]
  },
  {
   "cell_type": "code",
   "execution_count": 1,
   "metadata": {},
   "outputs": [
    {
     "name": "stderr",
     "output_type": "stream",
     "text": [
      "C:\\Users\\piyus\\AppData\\Local\\Temp\\ipykernel_14512\\1538748557.py:12: DeprecationWarning: The 'warn' function is deprecated, use 'warning' instead\n",
      "  logging.warn('warn')\n"
     ]
    }
   ],
   "source": [
    "import logging\n",
    "\n",
    "\n",
    "logging.basicConfig(\n",
    "    filename = './Logs/level.log',\n",
    "    filemode = 'a',\n",
    "    level = logging.WARN\n",
    ")\n",
    "\n",
    "logging.debug('debug')\n",
    "logging.info('info')\n",
    "logging.warn('warn')\n",
    "logging.warning('warning')\n",
    "logging.error('error')\n",
    "logging.critical('critical')\n",
    "logging.fatal('fatal\\n')"
   ]
  },
  {
   "attachments": {},
   "cell_type": "markdown",
   "metadata": {},
   "source": [
    "#### Restart Kernel"
   ]
  },
  {
   "cell_type": "code",
   "execution_count": 1,
   "metadata": {},
   "outputs": [
    {
     "name": "stderr",
     "output_type": "stream",
     "text": [
      "C:\\Users\\piyus\\AppData\\Local\\Temp\\ipykernel_21180\\1879238247.py:12: DeprecationWarning: The 'warn' function is deprecated, use 'warning' instead\n",
      "  logging.warn('warn')\n"
     ]
    }
   ],
   "source": [
    "import logging\n",
    "\n",
    "\n",
    "logging.basicConfig(\n",
    "    filename = './Logs/level.log',\n",
    "    filemode = 'a',\n",
    "    level = logging.WARNING\n",
    ")\n",
    "\n",
    "logging.debug('debug')\n",
    "logging.info('info')\n",
    "logging.warn('warn')\n",
    "logging.warning('warning')\n",
    "logging.error('error')\n",
    "logging.critical('critical')\n",
    "logging.fatal('fatal\\n')"
   ]
  },
  {
   "attachments": {},
   "cell_type": "markdown",
   "metadata": {},
   "source": [
    "#### Restart Kernel"
   ]
  },
  {
   "cell_type": "code",
   "execution_count": 1,
   "metadata": {},
   "outputs": [
    {
     "name": "stderr",
     "output_type": "stream",
     "text": [
      "C:\\Users\\piyus\\AppData\\Local\\Temp\\ipykernel_2076\\2894518071.py:12: DeprecationWarning: The 'warn' function is deprecated, use 'warning' instead\n",
      "  logging.warn('warn')\n"
     ]
    }
   ],
   "source": [
    "import logging\n",
    "\n",
    "\n",
    "logging.basicConfig(\n",
    "    filename = './Logs/level.log',\n",
    "    filemode = 'a',\n",
    "    level = logging.ERROR\n",
    ")\n",
    "\n",
    "logging.debug('debug')\n",
    "logging.info('info')\n",
    "logging.warn('warn')\n",
    "logging.warning('warning')\n",
    "logging.error('error')\n",
    "logging.critical('critical')\n",
    "logging.fatal('fatal\\n')"
   ]
  },
  {
   "attachments": {},
   "cell_type": "markdown",
   "metadata": {},
   "source": [
    "#### Restart Kernel"
   ]
  },
  {
   "cell_type": "code",
   "execution_count": 1,
   "metadata": {},
   "outputs": [
    {
     "name": "stderr",
     "output_type": "stream",
     "text": [
      "C:\\Users\\piyus\\AppData\\Local\\Temp\\ipykernel_18444\\946001842.py:12: DeprecationWarning: The 'warn' function is deprecated, use 'warning' instead\n",
      "  logging.warn('warn')\n"
     ]
    }
   ],
   "source": [
    "import logging\n",
    "\n",
    "\n",
    "logging.basicConfig(\n",
    "    filename = './Logs/level.log',\n",
    "    filemode = 'a',\n",
    "    level = logging.CRITICAL\n",
    ")\n",
    "\n",
    "logging.debug('debug')\n",
    "logging.info('info')\n",
    "logging.warn('warn')\n",
    "logging.warning('warning')\n",
    "logging.error('error')\n",
    "logging.critical('critical')\n",
    "logging.fatal('fatal\\n')"
   ]
  },
  {
   "attachments": {},
   "cell_type": "markdown",
   "metadata": {},
   "source": [
    "#### Restart Kernel"
   ]
  },
  {
   "cell_type": "code",
   "execution_count": 1,
   "metadata": {},
   "outputs": [
    {
     "name": "stderr",
     "output_type": "stream",
     "text": [
      "C:\\Users\\piyus\\AppData\\Local\\Temp\\ipykernel_16724\\1649021436.py:12: DeprecationWarning: The 'warn' function is deprecated, use 'warning' instead\n",
      "  logging.warn('warn')\n"
     ]
    }
   ],
   "source": [
    "import logging\n",
    "\n",
    "\n",
    "logging.basicConfig(\n",
    "    filename = './Logs/level.log',\n",
    "    filemode = 'a',\n",
    "    level = logging.FATAL\n",
    ")\n",
    "\n",
    "logging.debug('debug')\n",
    "logging.info('info')\n",
    "logging.warn('warn')\n",
    "logging.warning('warning')\n",
    "logging.error('error')\n",
    "logging.critical('critical')\n",
    "logging.fatal('fatal\\n')"
   ]
  }
 ],
 "metadata": {
  "kernelspec": {
   "display_name": "base",
   "language": "python",
   "name": "python3"
  },
  "language_info": {
   "codemirror_mode": {
    "name": "ipython",
    "version": 3
   },
   "file_extension": ".py",
   "mimetype": "text/x-python",
   "name": "python",
   "nbconvert_exporter": "python",
   "pygments_lexer": "ipython3",
   "version": "3.9.16"
  },
  "orig_nbformat": 4
 },
 "nbformat": 4,
 "nbformat_minor": 2
}
