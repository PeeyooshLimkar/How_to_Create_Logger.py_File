{
 "cells": [
  {
   "cell_type": "markdown",
   "id": "26020252",
   "metadata": {},
   "source": [
    "<br>"
   ]
  },
  {
   "cell_type": "markdown",
   "id": "06bd8d6c",
   "metadata": {},
   "source": [
    "# How To Create Logger.py File"
   ]
  },
  {
   "cell_type": "markdown",
   "id": "23a7cf4d",
   "metadata": {},
   "source": [
    "<br>"
   ]
  },
  {
   "cell_type": "markdown",
   "id": "58e62496",
   "metadata": {},
   "source": [
    "<br>"
   ]
  },
  {
   "cell_type": "code",
   "execution_count": 1,
   "id": "be1c1cd9",
   "metadata": {},
   "outputs": [
    {
     "name": "stderr",
     "output_type": "stream",
     "text": [
      "WARNING:root:Logging \n",
      " warning \n",
      "\n",
      "\n",
      "C:\\Users\\piyus\\AppData\\Local\\Temp\\ipykernel_13840\\2474921631.py:11: DeprecationWarning: The 'warn' function is deprecated, use 'warning' instead\n",
      "  logging.warn('Logging \\n warn \\n\\n')\n",
      "WARNING:root:Logging \n",
      " warn \n",
      "\n",
      "\n",
      "ERROR:root:Logging \n",
      " error \n",
      "\n",
      "\n",
      "CRITICAL:root:Logging \n",
      " critical \n",
      "\n",
      " \n",
      "CRITICAL:root:Logging \n",
      " fatal \n",
      "\n",
      "\n"
     ]
    }
   ],
   "source": [
    "import logging\n",
    "\n",
    "\n",
    "# # Error\n",
    "# logging.notset('Logging \\n notset')\n",
    "# # AttributeError: module 'logging' has no attribute 'notset'\n",
    "\n",
    "logging.debug('Logging \\n debug \\n\\n')\n",
    "logging.info('Logging \\n info \\n\\n')\n",
    "logging.warning('Logging \\n warning \\n\\n')\n",
    "logging.warn('Logging \\n warn \\n\\n')\n",
    "logging.error('Logging \\n error \\n\\n')\n",
    "logging.critical('Logging \\n critical \\n\\n ')\n",
    "logging.fatal('Logging \\n fatal \\n\\n')"
   ]
  },
  {
   "cell_type": "code",
   "execution_count": 2,
   "id": "0918b15b",
   "metadata": {},
   "outputs": [
    {
     "data": {
      "text/plain": [
       "0"
      ]
     },
     "metadata": {},
     "output_type": "display_data"
    },
    {
     "data": {
      "text/plain": [
       "10"
      ]
     },
     "metadata": {},
     "output_type": "display_data"
    },
    {
     "data": {
      "text/plain": [
       "20"
      ]
     },
     "metadata": {},
     "output_type": "display_data"
    },
    {
     "data": {
      "text/plain": [
       "30"
      ]
     },
     "metadata": {},
     "output_type": "display_data"
    },
    {
     "data": {
      "text/plain": [
       "30"
      ]
     },
     "metadata": {},
     "output_type": "display_data"
    },
    {
     "data": {
      "text/plain": [
       "40"
      ]
     },
     "metadata": {},
     "output_type": "display_data"
    },
    {
     "data": {
      "text/plain": [
       "50"
      ]
     },
     "metadata": {},
     "output_type": "display_data"
    },
    {
     "data": {
      "text/plain": [
       "50"
      ]
     },
     "metadata": {},
     "output_type": "display_data"
    }
   ],
   "source": [
    "import logging\n",
    "\n",
    "\n",
    "display(\n",
    "    logging.NOTSET,\n",
    "    logging.DEBUG,\n",
    "    logging.INFO,\n",
    "    logging.WARNING,\n",
    "    logging.WARN,\n",
    "    logging.ERROR,\n",
    "    logging.CRITICAL,\n",
    "    logging.FATAL,\n",
    ")"
   ]
  },
  {
   "cell_type": "markdown",
   "id": "0a825503",
   "metadata": {},
   "source": [
    "<br>"
   ]
  },
  {
   "cell_type": "markdown",
   "id": "6780a152",
   "metadata": {},
   "source": [
    "<br>"
   ]
  }
 ],
 "metadata": {
  "kernelspec": {
   "display_name": "Python 3 (ipykernel)",
   "language": "python",
   "name": "python3"
  },
  "language_info": {
   "codemirror_mode": {
    "name": "ipython",
    "version": 3
   },
   "file_extension": ".py",
   "mimetype": "text/x-python",
   "name": "python",
   "nbconvert_exporter": "python",
   "pygments_lexer": "ipython3",
   "version": "3.9.16"
  }
 },
 "nbformat": 4,
 "nbformat_minor": 5
}
